{
 "cells": [
  {
   "cell_type": "markdown",
   "id": "0b6ccb50",
   "metadata": {},
   "source": [
    "# Slice Time Correction\n",
    "Unlike a photograph, which captures an entire scene in a single instant, an fMRI volume is acquired slice by slice, with each slice taking anywhere from tens to hundreds of milliseconds to obtain.\n",
    "\n",
    "The two most commonly used methods for acquiring fMRI volumes are sequential and interleaved slice acquisition. In our study, we utilized the interleaved method, as slice-timing correction can significantly enhance statistical power—particularly in studies with longer repetition times (TRs) of 2 seconds or more.\n",
    "\n",
    "However, we apply slice-timing correction only to data recorded in a single-shot manner. Since task-based data collection was performed using a multiband acceleration factor of 2, applying slice-timing correction in this case would not be meaningful.\n",
    "### This code will only rename the file from previous step.\n",
    "\n",
    "\n",
    "-----------------------------------------------------------\n",
    "Script written by Sepideh Tabrik & Mehdi Behroozi\n",
    "<br>\n",
    "Biopsychology, \n",
    "<br>\n",
    "Ruhr-University Bochum, Bochum, Germany\n",
    "<br>\n",
    "(2022.03)\n",
    "\n",
    "-----------------------------------------------------------"
   ]
  },
  {
   "cell_type": "code",
   "execution_count": null,
   "id": "7661780d",
   "metadata": {
    "scrolled": true
   },
   "outputs": [],
   "source": [
    "\n",
    "import glob\n",
    "import os\n",
    "import subprocess\n",
    "\n",
    "data_path = '/mnt/d/Data/Human/ObjectCategorization/analysis2'\n",
    "bold_dirs = glob.glob('%s/sub*/ses-02/func/run*/bold_mcf.nii.gz'%(data_path))\n",
    "\n",
    "for curr_bold in bold_dirs:\n",
    "    sub_dir = os.path.dirname(curr_bold)\n",
    "    print('Currect direcotry is: %s'%(sub_dir))\n",
    "\n",
    "    # change directory to the res_dir \n",
    "    print('\\t 1) Changing the working directory to %s'%(sub_dir))\n",
    "    os.chdir(sub_dir)\n",
    "    \n",
    "    #slice time correction\n",
    "\n",
    "    print('\\t 2) Slice Time Correction using \"slicetimer\" function of FSL ...')\n",
    "    os.system(\"fslmaths bold_mcf bold_mcf_st\")\n"
   ]
  },
  {
   "cell_type": "code",
   "execution_count": null,
   "id": "843dd409-3000-4f1b-8629-a9db1283843f",
   "metadata": {},
   "outputs": [],
   "source": []
  }
 ],
 "metadata": {
  "kernelspec": {
   "display_name": "Python 3 (ipykernel)",
   "language": "python",
   "name": "python3"
  },
  "language_info": {
   "codemirror_mode": {
    "name": "ipython",
    "version": 3
   },
   "file_extension": ".py",
   "mimetype": "text/x-python",
   "name": "python",
   "nbconvert_exporter": "python",
   "pygments_lexer": "ipython3",
   "version": "3.10.12"
  }
 },
 "nbformat": 4,
 "nbformat_minor": 5
}
