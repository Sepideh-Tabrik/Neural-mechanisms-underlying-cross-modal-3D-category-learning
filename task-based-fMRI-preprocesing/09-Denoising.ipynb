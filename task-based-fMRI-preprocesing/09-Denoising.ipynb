{
 "cells": [
  {
   "cell_type": "markdown",
   "id": "d1fcc095",
   "metadata": {},
   "source": [
    "# Removing Artifacts\n",
    "ICA-AROMA (Independent Component Analysis - Automatic Removal of Motion Artifacts) is a data-driven method used in functional MRI (fMRI) to identify and remove motion-related noise from brain imaging data. By applying Independent Component Analysis, it decomposes fMRI data into independent components and uses a robust set of four temporal and spatial features to classify and eliminate motion artifacts without requiring classifier retraining. This preserves the data’s temporal structure and enhances the accuracy of functional connectivity analyses, making it effective for both resting-state and task-based fMRI studies.\n",
    "\n",
    "#### Link for ICA-AROMA: https://github.com/maartenmennes/ICA-AROMA\n",
    "\n",
    "-----------------------------------------------------------\n",
    "Script written by Sepideh Tabrik & Mehdi Behroozi\n",
    "<br>\n",
    "Biopsychology, \n",
    "<br>\n",
    "Ruhr-University Bochum, Bochum, Germany\n",
    "<br>\n",
    "(2022.03)\n",
    "\n",
    "-----------------------------------------------------------"
   ]
  },
  {
   "cell_type": "code",
   "execution_count": null,
   "id": "0066ee73-3ad9-4db4-91ec-1217d0f458b3",
   "metadata": {
    "scrolled": true
   },
   "outputs": [],
   "source": [
    "import glob\n",
    "import os\n",
    "from pathlib import Path\n",
    "\n",
    "data_path = Path('/mnt/d/Data/Human/ObjectCategorization/analysis2')\n",
    "bold_dirs = list(data_path.glob('sub-*/ses-02/func/run*/*intnorm.nii.gz'))\n",
    "\n",
    "ICA_AROMA_dir = Path('/home/mehdi/ICA-AROMA')\n",
    "\n",
    "def run_command(command):\n",
    "    \"\"\"Execute a shell command with error handling.\"\"\"\n",
    "    exit_code = os.system(command)\n",
    "    if exit_code != 0:\n",
    "        print(f\"Error executing: {command}\")\n",
    "\n",
    "for curr_bold in bold_dirs[298:]:\n",
    "    sub_dir = curr_bold.parent\n",
    "    os.chdir(sub_dir)\n",
    "    print(f'Current file is: {sub_dir}')\n",
    "\n",
    "    # Run ICA-AROMA\n",
    "    print('ICA-AROMA is running...')\n",
    "    run_command(f'python {ICA_AROMA_dir}/ICA_AROMA.py -in {curr_bold} -out {sub_dir}/ICA_AROMA '\n",
    "                f'-mc {sub_dir}/mc/bold_mcf.par '\n",
    "                f'-affmat {sub_dir}/reg/example_func2highres.mat '\n",
    "                f'-warp {sub_dir}/reg/highres2standard_warp.nii.gz')\n",
    "\n",
    "    # Apply FSL math operations\n",
    "    run_command('fslmaths ICA_AROMA/denoised_func_data_nonaggr bold_mcf_st_smoothed_intnorm_denoised')\n"
   ]
  },
  {
   "cell_type": "code",
   "execution_count": null,
   "id": "f69d9dcd",
   "metadata": {},
   "outputs": [],
   "source": []
  }
 ],
 "metadata": {
  "kernelspec": {
   "display_name": "Python 3 (ipykernel)",
   "language": "python",
   "name": "python3"
  },
  "language_info": {
   "codemirror_mode": {
    "name": "ipython",
    "version": 3
   },
   "file_extension": ".py",
   "mimetype": "text/x-python",
   "name": "python",
   "nbconvert_exporter": "python",
   "pygments_lexer": "ipython3",
   "version": "3.10.12"
  }
 },
 "nbformat": 4,
 "nbformat_minor": 5
}
