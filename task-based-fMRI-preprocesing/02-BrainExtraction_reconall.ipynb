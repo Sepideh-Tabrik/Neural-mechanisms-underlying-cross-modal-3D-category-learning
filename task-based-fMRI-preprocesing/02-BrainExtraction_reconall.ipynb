{
 "cells": [
  {
   "cell_type": "markdown",
   "metadata": {},
   "source": [
    "# Automated Brain Extraction\n",
    "In this code we use recon-all funtion for brain extraction.The recon-all command from FreeSurfer software is used to process MRI scans, performing automated brain extraction and cortical reconstruction.\n",
    "\n",
    "\n",
    "-----------------------------------------------------------\n",
    "Script written by Sepideh Tabrik & Mehdi Behroozi\n",
    "<br>\n",
    "Biopsychology, \n",
    "<br>\n",
    "Ruhr-University Bochum, Bochum, Germany\n",
    "<br>\n",
    "(2022.03)\n",
    "\n",
    "-----------------------------------------------------------"
   ]
  },
  {
   "cell_type": "code",
   "execution_count": null,
   "metadata": {},
   "outputs": [],
   "source": [
    "%%bash\n",
    "# Define SUBJECTS_DIR explicitly\n",
    "SUBJECTS_DIR=\"/mnt/d/Data/Human/ObjectCategorization/analysis2\"\n",
    "\n",
    "# Ensure Freesurfer directory exists\n",
    "mkdir -p \"$SUBJECTS_DIR/BrainExtraction\"\n",
    "\n",
    "# List relevant T1w files from session 01, extract subject IDs, and process in parallel\n",
    "ls \"$SUBJECTS_DIR\"/sub*/ses-01/anat/*T1w.nii.gz -1 | awk -F'/' '{print $8}' | \\\n",
    "parallel --jobs 4 recon-all -s \"$SUBJECS_DIR/BrainExtraction/anat_ses-01_{}\" \\\n",
    "-i \"$SUBJECTS_DIR/{}/ses-01/anat/{}*_ses-01_T1w.nii.gz\" -all -qcache -3T\n",
    "\n",
    "# List relevant T1w filesfrom sesion 02, extract subject IDs, and process in parallel\n",
    "ls \"$SUBJECTS_DIR\"/sub*/ses-02/anat/*T1w.nii.gz -1 | awk -F'/' '{print $8}' | \\\n",
    "parallel --jobs 4 recon-all -s \"$SUBJECTS_DIR/BrainExtraction/anat_ses-02_{}\" \\\n",
    "-i \"$SUBJECTS_DIR/{}/ses-02/anat/{}*_ses-02_T1w.nii.gz\" -all -qcache -3T\n",
    "\n",
    "\n",
    "#move results to the Freesurfer folder\n",
    "mv \"$SUBJECTS_DIR\"/anat_ses-0* \"$SUBJECTS_DIR/BrainExtraction/\""
   ]
  },
  {
   "cell_type": "markdown",
   "metadata": {},
   "source": [
    "# Conver Brain Masks to nifti format\n",
    "In addition to using recon-all from FreeSurfer for brain reconstruction, we also applied BET from the FSL package to enhance brain extraction, ensuring greater clarity and accuracy in the results."
   ]
  },
  {
   "cell_type": "code",
   "execution_count": null,
   "metadata": {},
   "outputs": [],
   "source": [
    "import glob\n",
    "import os\n",
    "from pathlib import Path\n",
    "\n",
    "# Define data path\n",
    "data_path = Path(\"/mnt/d/Data/Human/ObjectCategorization/analysis2\")\n",
    "\n",
    "# Find anatomical directories\n",
    "anat_dirs = list(data_path.glob(\"BrainExtraction/anat*/mri\"))\n",
    "\n",
    "# Process each anatomy directory\n",
    "for curr_anat in anat_dirs:\n",
    "    print(f\"Change Directory to >> {curr_anat}\")\n",
    "    \n",
    "\n",
    "    # Ensure the directory exists before changing into it\n",
    "    if not curr_anat.exists():\n",
    "        print(f\"Skipping: Directory {curr_anat} does not exist!\")\n",
    "        continue\n",
    "    \n",
    "    os.chdir(curr_anat)\n",
    "    \n",
    "    # Convert brain.mgz to brain.nii.gz\n",
    "    print(\"\\t1) Converting brain.mgz to brain.nii.gz.\")\n",
    "    os.system(f\"mri_convert --reslice_like orig/001.mgz brain.mgz brain.nii.gz\")\n",
    "\n",
    "    # Run BET function from FSL package to get a clear brain mask\n",
    "    print(\"\\t2) Running BET function from FSL package...\")\n",
    "    os.system(\"bet brain brain_brain -R -f 0.3 -g 0 -m\")\n",
    "\n",
    "    # Define output path dynamically\n",
    "    subject = curr_anat.parts[-2].split(\"_\")[-1]\n",
    "    session = curr_anat.parts[-2].split(\"_\")[-2]\n",
    "    out_put = data_path / subject / session / \"anat\" / \"mask.nii.gz\"\n",
    "\n",
    "    print(f\"\\t3) Copying brain mask to {out_put.parent}\")\n",
    "    os.system(f\"cp brain_brain_mask.nii.gz {out_put}\")\n",
    "\n",
    "    # Apply brain mask on the original image\n",
    "    print(\"\\t4) Applying brain mask on original image\")\n",
    "    t1w_image = list(out_put.parent.glob(\"*T1w.nii.gz\"))\n",
    "    out_put_brain = data_path / subject / session / \"anat\" / \"brain.nii.gz\"\n",
    "\n",
    "    if t1w_image:\n",
    "        os.system(f\"fslmaths {t1w_image[0]} -mul {out_put} {out_put_brain}\")\n",
    "    else:\n",
    "        print(f\"Skipping: No T1w.nii.gz file found in {out_put.parent}\")\n",
    "\n",
    "    # Deleting the nifti files from Freesurfer folders\n",
    "    os.system('rm -r *nii.gz')\n",
    "    print(\"\\n\")\n"
   ]
  },
  {
   "cell_type": "code",
   "execution_count": null,
   "metadata": {},
   "outputs": [],
   "source": []
  }
 ],
 "metadata": {
  "kernelspec": {
   "display_name": "Python 3 (ipykernel)",
   "language": "python",
   "name": "python3"
  },
  "language_info": {
   "codemirror_mode": {
    "name": "ipython",
    "version": 3
   },
   "file_extension": ".py",
   "mimetype": "text/x-python",
   "name": "python",
   "nbconvert_exporter": "python",
   "pygments_lexer": "ipython3",
   "version": "3.10.12"
  }
 },
 "nbformat": 4,
 "nbformat_minor": 4
}
