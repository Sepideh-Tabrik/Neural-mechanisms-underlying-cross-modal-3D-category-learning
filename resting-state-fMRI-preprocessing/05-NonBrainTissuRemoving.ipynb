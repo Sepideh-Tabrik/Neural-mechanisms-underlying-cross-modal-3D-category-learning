{
 "cells": [
  {
   "cell_type": "markdown",
   "id": "e2ecd35f",
   "metadata": {},
   "source": [
    "# Removing non-brain tisues \n",
    "This code utilizes the \"fslmaths\" function to generate a mean BOLD image and the \"bet\" function to perform brain extraction, creating a brain mask for functional data. The code exclusively relies on the FSL package.\n",
    "\n",
    "\n",
    "-----------------------------------------------------------\n",
    "Script written by Sepideh Tabrik & Mehdi Behroozi\n",
    "<br>\n",
    "Biopsychology, \n",
    "<br>\n",
    "Ruhr-University Bochum, Bochum, Germany\n",
    "<br>\n",
    "(2022.03)\n",
    "\n",
    "-----------------------------------------------------------"
   ]
  },
  {
   "cell_type": "code",
   "execution_count": null,
   "id": "e8c3f6f4",
   "metadata": {
    "scrolled": true
   },
   "outputs": [],
   "source": [
    "import glob\n",
    "import os\n",
    "from pathlib import Path\n",
    "\n",
    "# Define data path\n",
    "data_path = Path(\"/mnt/d/Data/Human/ObjectCategorization/analysis2\")\n",
    "\n",
    "# Find bold files\n",
    "bold_dirs = glob.glob(f\"{data_path}/sub*/ses-*/func/*rest*/bold_mcf_st.nii.gz\")\n",
    "\n",
    "# Process each bold directory\n",
    "for curr_bold in bold_dirs:\n",
    "    sub_dir = Path(curr_bold).parent  # Get parent directory using Pathlib\n",
    "    print(f\"Current directory is: {sub_dir}\")\n",
    "\n",
    "    # Ensure directory exists before changing into it\n",
    "    if sub_dir.exists():\n",
    "        print(f\"\\t1) Changing the working directory to {sub_dir}\")\n",
    "        os.chdir(sub_dir)\n",
    "    else:\n",
    "        print(f\"\\t1) Skipping: Directory {sub_dir} does not exist!\")\n",
    "        continue\n",
    "\n",
    "    # creating mean imgae for fucntiona data\n",
    "    os.system('fslmaths bold_mcf_st -Tmean mean_func')\n",
    "    # Slice time correction\n",
    "    print(\"\\t2) brain extraction using BET function...\")\n",
    "    os.system(\"bet mean_func mean_func_brain -R -f 0.2 -g 0 -m\")"
   ]
  },
  {
   "cell_type": "code",
   "execution_count": null,
   "id": "876052fd",
   "metadata": {},
   "outputs": [],
   "source": []
  }
 ],
 "metadata": {
  "kernelspec": {
   "display_name": "Python 3 (ipykernel)",
   "language": "python",
   "name": "python3"
  },
  "language_info": {
   "codemirror_mode": {
    "name": "ipython",
    "version": 3
   },
   "file_extension": ".py",
   "mimetype": "text/x-python",
   "name": "python",
   "nbconvert_exporter": "python",
   "pygments_lexer": "ipython3",
   "version": "3.10.12"
  }
 },
 "nbformat": 4,
 "nbformat_minor": 5
}
