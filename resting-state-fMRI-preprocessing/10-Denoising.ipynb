{
 "cells": [
  {
   "cell_type": "markdown",
   "id": "48676f3b",
   "metadata": {},
   "source": [
    "# Removing Artifacts\n",
    "ICA-AROMA (Independent Component Analysis - Automatic Removal of Motion Artifacts) is a data-driven method used in functional MRI (fMRI) to identify and remove motion-related noise from brain imaging data. By applying Independent Component Analysis, it decomposes fMRI data into independent components and uses a robust set of four temporal and spatial features to classify and eliminate motion artifacts without requiring classifier retraining. This preserves the data’s temporal structure and enhances the accuracy of functional connectivity analyses, making it effective for both resting-state and task-based fMRI studies.\n",
    "\n",
    "In addition, to preprocess the resting-state functional MRI (fMRI) data and mitigate the influence of non-neuronal signals, we utilized the fsl_regfilt tool from the FSL (FMRIB Software Library) to regress out signals associated with white matter (WM), cerebrospinal fluid (CSF), and the global brain signal. This step involved extracting time series from WM and CSF regions using predefined masks, followed by regression to remove their contributions from the data. Additionally, the global signal was regressed to minimize the impact of physiological noise, such as respiratory and cardiac effects, thereby enhancing the specificity of functional connectivity analyses.\n",
    "\n",
    "#### Link for ICA-AROMA: https://github.com/maartenmennes/ICA-AROMA\n",
    "\n",
    "-----------------------------------------------------------\n",
    "Script written by Sepideh Tabrik & Mehdi Behroozi\n",
    "<br>\n",
    "Biopsychology, \n",
    "<br>\n",
    "Ruhr-University Bochum, Bochum, Germany\n",
    "<br>\n",
    "(2022.03)\n",
    "\n",
    "-----------------------------------------------------------"
   ]
  },
  {
   "cell_type": "code",
   "execution_count": null,
   "id": "68f58a45",
   "metadata": {},
   "outputs": [],
   "source": [
    "import glob\n",
    "import os\n",
    "import pandas as pd\n",
    "import numpy as np\n",
    "\n",
    "data_path = '/mnt/d/Data/Human/ObjectCategorization/analysis2'\n",
    "bold_dirs = glob.glob(f'{data_path}/sub-*/ses-*/func/rest*/*intnorm.nii.gz')\n",
    "\n",
    "ICA_AROMA_dir = '/home/mehdi/ICA-AROMA'\n",
    "\n",
    "def run_command(command):\n",
    "    \"\"\"Execute a shell command with error handling.\"\"\"\n",
    "    exit_code = os.system(command)\n",
    "    if exit_code != 0:\n",
    "        print(f\"Error executing: {command}\")\n",
    "\n",
    "for curr_bold in bold_dirs:\n",
    "    sub_dir = os.path.dirname(curr_bold)\n",
    "    os.chdir(sub_dir)\n",
    "    print(f'Current file is: {sub_dir}')\n",
    "\n",
    "    # Run ICA-AROMA\n",
    "    print('ICA-AROMA is running...')\n",
    "    run_command(f'python {ICA_AROMA_dir}/ICA_AROMA.py -in {curr_bold} -out {sub_dir}/ICA_AROMA '\n",
    "                f'-mc {sub_dir}/mc/bold_mcf.par '\n",
    "                f'-affmat {sub_dir}/reg/example_func2highres.mat '\n",
    "                f'-warp {sub_dir}/reg/highres2standard_warp.nii.gz')\n",
    "\n",
    "    # White matter and CSF regression\n",
    "    for tissue in [\"CSF\", \"WM\", \"reg/example_func_brain_mask\"]:\n",
    "        run_command(f'fslmeants -i ICA_AROMA/denoised_func_data_nonaggr -o {tissue.split(\"/\")[-1].lower()}.txt -m {sub_dir}/{tissue}.nii.gz')\n",
    "\n",
    "    # Load data\n",
    "    csf = pd.read_csv(\"csf.txt\", sep=\" \", header=None)[0]\n",
    "    wm = pd.read_csv(\"wm.txt\", sep=\" \", header=None)[0]\n",
    "    gs = pd.read_csv(\"example_func_brain_mask.txt\", sep=\" \", header=None)[0]\n",
    "\n",
    "    # Stack and save artifacts\n",
    "    artifacts = np.column_stack((csf, wm, gs))\n",
    "    np.savetxt(\"artifacts_csf_wm_gs.txt\", artifacts, fmt=\"%f\")\n",
    "\n",
    "    # Apply regression filtering\n",
    "    run_command('fsl_regfilt -i ICA_AROMA/denoised_func_data_nonaggr -d artifacts_csf_wm_gs.txt -f \"1,2,3\" -o bold_mcf_st_smoothed_intnorm_denoised')\n"
   ]
  },
  {
   "cell_type": "code",
   "execution_count": null,
   "id": "5641ed65",
   "metadata": {},
   "outputs": [],
   "source": []
  }
 ],
 "metadata": {
  "kernelspec": {
   "display_name": "Python 3 (ipykernel)",
   "language": "python",
   "name": "python3"
  },
  "language_info": {
   "codemirror_mode": {
    "name": "ipython",
    "version": 3
   },
   "file_extension": ".py",
   "mimetype": "text/x-python",
   "name": "python",
   "nbconvert_exporter": "python",
   "pygments_lexer": "ipython3",
   "version": "3.10.12"
  }
 },
 "nbformat": 4,
 "nbformat_minor": 5
}
