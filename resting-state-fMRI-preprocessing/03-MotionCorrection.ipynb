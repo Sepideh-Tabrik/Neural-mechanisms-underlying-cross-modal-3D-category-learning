{
 "cells": [
  {
   "cell_type": "markdown",
   "id": "c5499701",
   "metadata": {},
   "source": [
    "# Motion Correction\n",
    "This script will use \"mcflirt\" function of FSL to run estimate motion parameters.\n",
    "<br>\n",
    "Here we use the middle volume as reference. It also applies final transformations using spline interpolation.\n",
    "<br>\n",
    "The main outputs of this script are the realligned timeseries and the 6 estimated motion parameters (3 rotations + 3 traslations). These parmeters will be used to regress out the motion artificats from bold data.\n",
    "\n",
    "-----------------------------------------------------------\n",
    "Script written by Sepideh Tabrik & Mehdi Behroozi\n",
    "<br>\n",
    "Biopsychology, \n",
    "<br>\n",
    "Ruhr-University Bochum, Bochum, Germany\n",
    "<br>\n",
    "(2022.03)\n",
    "\n",
    "-----------------------------------------------------------"
   ]
  },
  {
   "cell_type": "code",
   "execution_count": null,
   "id": "ab019d53",
   "metadata": {
    "scrolled": true
   },
   "outputs": [],
   "source": [
    "import glob\n",
    "import os\n",
    "import subprocess\n",
    "\n",
    "data_path = '/mnt/d/Data/Human/ObjectCategorization/analysis2'\n",
    "bold_dirs = glob.glob('%s/sub*/ses-0*/func/*rest*.nii.gz'%(data_path))\n",
    "\n",
    "for curr_bold in bold_dirs:\n",
    "    exp_name = curr_bold.split('_')[-2].split('-')[-1]\n",
    "    sub_dir = os.path.join(os.path.dirname(curr_bold),exp_name)    \n",
    "    print('Currect direcotry is: \\n\\t%s'%(sub_dir))\n",
    "    \n",
    "    # change directory to the res_dir \n",
    "    print('\\t 1) Changing the working directory to %s'%(sub_dir))\n",
    "    os.chdir(sub_dir)\n",
    "    \n",
    "    #motion correction\n",
    "\n",
    "    print('\\t 2) Motion Correction using \"MCFLIRT\" function of FSL ...')\n",
    "    os.system(\"mcflirt -in %s -out bold_mcf -mats -plots -rmsrel -rmsabs -spline_final\"%(curr_bold))\n",
    "    os.system(\"mkdir -p mc ; mv -f bold_mcf.mat bold_mcf.par bold_mcf_abs.rms bold_mcf_abs_mean.rms bold_mcf_rel.rms bold_mcf_rel_mean.rms  mc\")\n",
    "    os.system(\"fsl_tsplot -i %s/bold_mcf.par -t 'MCFLIRT estimated rotations (radians)' -u 1 --start=1 --finish=3 -a x,y,z -w 640 -h 144 -o %s/rot.png\"%('mc','mc'))\n",
    "    os.system(\"fsl_tsplot -i %s/bold_mcf.par -t 'MCFLIRT estimated translations (mm)' -u 1 --start=4 --finish=6 -a x,y,z -w 640 -h 144 -o %s/trans.png\"%('mc','mc'))\n",
    "    os.system(\"fsl_tsplot -i %s/bold_mcf_abs.rms,%s/bold_mcf_rel.rms -t 'MCFLIRT estimated mean displacement (mm)' -u 1 -w 640 -h 144 -a absolute,relative -o %s/disp.png\"%('mc','mc','mc')) \n",
    "  "
   ]
  },
  {
   "cell_type": "markdown",
   "id": "5f049853",
   "metadata": {},
   "source": [
    "### plot estimated motion parameters\n"
   ]
  },
  {
   "cell_type": "code",
   "execution_count": null,
   "id": "f57f113b",
   "metadata": {},
   "outputs": [],
   "source": [
    "%matplotlib inline\n",
    "\n",
    "from IPython.display import display, Image\n",
    "import matplotlib.pyplot as plt\n",
    "from pathlib import Path\n",
    "import glob\n",
    "\n",
    "# Define data path\n",
    "data_path = Path(\"/mnt/d/Data/Human/ObjectCategorization/analysis2\")\n",
    "\n",
    "# Find motion correction directories\n",
    "mc_dirs = list(data_path.glob(\"sub*/ses-0*/func/rest*/mc\"))\n",
    "\n",
    "# Process each motion correction directory\n",
    "for curr_mc in mc_dirs:\n",
    "    sub, session,func,run = curr_mc.parts[-5:-1]  # Extract subject/session dynamically\n",
    "    print(f\"Processing: {sub}/{session}/{run}\")\n",
    "\n",
    "    # Ensure directory exists\n",
    "    if not curr_mc.exists():\n",
    "        print(f\"Skipping {curr_mc}, directory does not exist!\")\n",
    "        continue\n",
    "\n",
    "    # Display images\n",
    "    plt.figure(figsize=(6, 4))  # Improve figure sizing\n",
    "    display(Image(filename=str(curr_mc / \"rot.png\")))\n",
    "    display(Image(filename=str(curr_mc / \"trans.png\")))"
   ]
  },
  {
   "cell_type": "code",
   "execution_count": null,
   "id": "5c44d8aa",
   "metadata": {},
   "outputs": [],
   "source": []
  }
 ],
 "metadata": {
  "kernelspec": {
   "display_name": "Python 3 (ipykernel)",
   "language": "python",
   "name": "python3"
  },
  "language_info": {
   "codemirror_mode": {
    "name": "ipython",
    "version": 3
   },
   "file_extension": ".py",
   "mimetype": "text/x-python",
   "name": "python",
   "nbconvert_exporter": "python",
   "pygments_lexer": "ipython3",
   "version": "3.10.12"
  }
 },
 "nbformat": 4,
 "nbformat_minor": 5
}
