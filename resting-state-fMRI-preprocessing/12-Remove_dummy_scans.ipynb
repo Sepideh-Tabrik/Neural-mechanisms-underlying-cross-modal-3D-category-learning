{
 "cells": [
  {
   "cell_type": "markdown",
   "metadata": {},
   "source": [
    "### Removing first n volumes of BOLD time series: \n",
    "This is a product of the machine’s magnetic field first lining up the protons in the water molecules in the brain, before they have gone into a stead stat. \n",
    "<br>\n",
    "To remove the thermal noise effect we remove first 5 volumes.\n",
    "<br>\n",
    "In addition, to avoide the edge effect of temporal filtering, we discarded the last 5 volumes.\n",
    "<br>\n",
    "Second code will remove the motion parameters of discarded volumes form bold_mc.par file.\n",
    "\n",
    "-----------------------------------------------------------\n",
    "Script written by Sepideh Tabrik & Mehdi Behroozi\n",
    "<br>\n",
    "Biopsychology, \n",
    "<br>\n",
    "Ruhr-University Bochum, Bochum, Germany\n",
    "<br>\n",
    "(2022.03)\n",
    "\n",
    "-----------------------------------------------------------"
   ]
  },
  {
   "cell_type": "code",
   "execution_count": null,
   "metadata": {
    "scrolled": true
   },
   "outputs": [],
   "source": [
    "from pathlib import Path\n",
    "import os\n",
    "\n",
    "dummy_scan = 5  # Number of volumes to remove (edit here)\n",
    "\n",
    "data_path = Path('/mnt/d/Data/Human/ObjectCategorization/analysis2')\n",
    "bold_dirs = list(data_path.glob('sub-*/ses-0*/func/rest*/*bandpassed.nii.gz'))\n",
    "\n",
    "def run_command(command):\n",
    "    \"\"\"Execute a shell command with error handling.\"\"\"\n",
    "    exit_code = os.system(command)\n",
    "    if exit_code != 0:\n",
    "        print(f\"Error executing: {command}\")\n",
    "\n",
    "for curr_bold in bold_dirs:\n",
    "    curr_sub = curr_bold.parent\n",
    "    print(f'Discarding the first {dummy_scan} and the last {dummy_scan} volumes of dataset: {curr_sub}\\n')\n",
    "\n",
    "    filename = curr_bold.stem  # Extract filename without extension\n",
    "\n",
    "    os.chdir(curr_sub)\n",
    "\n",
    "    # Get number of volumes\n",
    "    nVolume = os.popen(f\"fslnvols {filename}\").read().strip()\n",
    "    if nVolume.isdigit():\n",
    "        nVolume = int(nVolume) - 2 * dummy_scan\n",
    "        run_command(f\"fslroi {filename} preprocessed_func_data {dummy_scan} {nVolume}\")\n",
    "    \n",
    "        # Alternative processing with 3dTcat (commented out)\n",
    "        # run_command(f\"3dTcat -prefix preprocessed_data_bandpassed_chopped.nii.gz preprocessed_data_bandpassed.nii.gz[{dummy_scan}..{nVolume}]\")\n",
    "        # run_command(f\"3dTcat -prefix preprocessed_data_highpassed_chopped.nii.gz preprocessed_data_highpassed.nii.gz[{dummy_scan}..{nVolume}]\")\n",
    "    else:\n",
    "        print(f\"Warning: Could not determine volume count for {filename}\")\n"
   ]
  },
  {
   "cell_type": "markdown",
   "metadata": {},
   "source": [
    "## Removing n voluems for estimated-motion parameters"
   ]
  },
  {
   "cell_type": "code",
   "execution_count": null,
   "metadata": {},
   "outputs": [],
   "source": [
    "from pathlib import Path\n",
    "import os\n",
    "\n",
    "dummy_scan = 5  # Number of volumes to remove (edit here)\n",
    "\n",
    "data_path = Path('/mnt/d/Data/Human/ObjectCategorization/analysis2')\n",
    "sub_dirs = list(data_path.glob('sub*/ses-*/func/rest*/mc'))\n",
    "\n",
    "for curr_sub in sub_dirs:  # Skip the first item\n",
    "    print(f'Discarding the first {dummy_scan} and the last {dummy_scan} volumes of mc: {curr_sub}\\n')\n",
    "\n",
    "    # Change to the current directory\n",
    "    os.chdir(curr_sub)  # Use os.chdir() instead of Path.chdir()\n",
    "\n",
    "    mc_file = curr_sub / \"bold_mcf.par\"\n",
    "    mc_out = curr_sub / \"bold_mcf_chopped.par\"\n",
    "\n",
    "    # Count number of lines\n",
    "    num_lines = sum(1 for _ in mc_file.open())\n",
    "\n",
    "    # Process and write valid lines\n",
    "    with mc_file.open() as infile, mc_out.open(\"w\") as outfile:\n",
    "        for pos, line in enumerate(infile):\n",
    "            if dummy_scan <= pos < num_lines - dummy_scan:\n",
    "                outfile.write(line)\n"
   ]
  },
  {
   "cell_type": "code",
   "execution_count": null,
   "metadata": {},
   "outputs": [],
   "source": []
  }
 ],
 "metadata": {
  "kernelspec": {
   "display_name": "Python 3 (ipykernel)",
   "language": "python",
   "name": "python3"
  },
  "language_info": {
   "codemirror_mode": {
    "name": "ipython",
    "version": 3
   },
   "file_extension": ".py",
   "mimetype": "text/x-python",
   "name": "python",
   "nbconvert_exporter": "python",
   "pygments_lexer": "ipython3",
   "version": "3.10.12"
  }
 },
 "nbformat": 4,
 "nbformat_minor": 4
}
