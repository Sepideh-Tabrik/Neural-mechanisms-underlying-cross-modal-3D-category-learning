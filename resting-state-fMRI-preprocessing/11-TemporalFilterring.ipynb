{
 "cells": [
  {
   "cell_type": "markdown",
   "id": "6c2adf5f",
   "metadata": {},
   "source": [
    "# Temporal filtering\n",
    "\n",
    "A bandpass filter in resting-state fMRI is used to isolate specific frequency components of the BOLD signal, typically within the range of 0.01–0.1 Hz. This filtering process helps remove high-frequency noise and low-frequency drift, improving the detection of meaningful neural fluctuations related to brain connectivity. It ensures that only relevant temporal patterns are retained for further analysis.\n",
    "\n",
    "\n",
    "-----------------------------------------------------------\n",
    "Script written by Sepideh Tabrik & Mehdi Behroozi\n",
    "<br>\n",
    "Biopsychology, \n",
    "<br>\n",
    "Ruhr-University Bochum, Bochum, Germany\n",
    "<br>\n",
    "(2022.03)\n",
    "\n",
    "-----------------------------------------------------------\n"
   ]
  },
  {
   "cell_type": "markdown",
   "id": "56120b76",
   "metadata": {},
   "source": [
    "## band-pass filter (0.01-0.1 Hz) resting-state\n"
   ]
  },
  {
   "cell_type": "code",
   "execution_count": null,
   "id": "d2e32c73",
   "metadata": {
    "scrolled": true
   },
   "outputs": [],
   "source": [
    "import glob\n",
    "import os\n",
    "import subprocess\n",
    "\n",
    "data_path = '/mnt/d/Data/Human/ObjectCategorization/analysis2'\n",
    "bold_dirs = glob.glob('%s/sub-*/ses-*/func/rest*/*denoised.nii.gz'%(data_path))\n",
    "LowPass = False\n",
    "HighPass = False\n",
    "AllPass = False\n",
    "BandPass = True\n",
    "\n",
    "hp = 0.01 # 99999 means don't apply high pass filter. 0 means only apply low pass filter.\n",
    "lp = 0.1  # 99999 means don't  apply low pass filter. \n",
    "\n",
    "for curr_bold in bold_dirs:\n",
    "    sub_dir = os.path.dirname(curr_bold)\n",
    "    \n",
    "    print('Currect file is: %s'%(curr_bold))\n",
    "\n",
    "    # change directory to the res_dir \n",
    "    print('\\t 1) Changing the working directory to %s'%(sub_dir))\n",
    "    os.chdir(sub_dir)\n",
    "    \n",
    "    \n",
    "    \n",
    "     # If neither lowpass or highpass is set, do an allpass filter (fbot=0 ftop=99999)\n",
    "   # If ONLY highpass is set, do a highpass filter (fbot=${hp} ftop=99999)\n",
    "   # If ONLY lowpass is set, do a lowpass filter (fbot=0 ftop=${hp})\n",
    "   # If both lowpass and highpass are set, do a bandpass filter (fbot=${hp} ftop=${lp})\n",
    "    if AllPass:\n",
    "        # allpass filter\n",
    "        fbot=0\n",
    "        ftop=99999\n",
    "        #hp=0\n",
    "        #lp=99999\n",
    "        #filtType=\"AllPass\"\n",
    "        print(\"\\t 2) Performing an 'allpass' filter.  Removal of '0' and Nyquist only.\")\n",
    "    elif HighPass:\n",
    "        # highpass filter\n",
    "        fbot=hp\n",
    "        ftop=99999\n",
    "        #lp=99999\n",
    "        #filtType=\"HighPass\"\n",
    "        print(\"\\t 2) Performing a 'HighPass' filter.  Frequencies below %s will be filtered.\"%(hp))\n",
    "    elif LowPass:\n",
    "        # lowpass filter\n",
    "        fbot=0\n",
    "        ftop=lp\n",
    "        #hp=0\n",
    "        #filtType=\"LowPass\"\n",
    "        print(\"\\t 2) Performing a 'LowPass' filter.  Frequencies above %s will be filtered.\"%(lp))\n",
    "    elif BandPass:\n",
    "        # bandpass filter (low and high)\n",
    "        fbot=hp\n",
    "        ftop=lp\n",
    "        #filtType=\"BandPass\"\n",
    "        print(\"\\t 2) Performing a 'BandPass' filter.  Frequencies between %s & %s will be filtered.\"%(lp, hp))\n",
    "        \n",
    "    os.system('3dTproject -input %s -prefix func_bandpassed.nii.gz -mask reg/example_func_brain_mask.nii.gz -bandpass %s %s -verb'%(curr_bold, fbot, ftop)) # to remove motion, csf, weight matter and global signal you can add -ort \"${regressorsFile}\" \n",
    "    \n",
    "    # add mean back in\n",
    "    print('\\t 3) Calculating the mean of denoised functional data ... ')\n",
    "    os.system('3dTstat -mean -prefix func_mean.nii.gz %s'%(curr_bold))\n",
    "    \n",
    "    print('\\t 4) Adding mean to filtered data, usefull for presentation')\n",
    "    os.system('3dcalc -a func_bandpassed.nii.gz -b func_mean.nii.gz -expr \"a+b\" -prefix bold_mcf_st_smoothed_intnorm_denoised_bandpassed.nii.gz')\n",
    "    os.system('rm -r *.1D func*')\n"
   ]
  },
  {
   "cell_type": "code",
   "execution_count": null,
   "id": "11c16843",
   "metadata": {},
   "outputs": [],
   "source": []
  }
 ],
 "metadata": {
  "kernelspec": {
   "display_name": "Python 3 (ipykernel)",
   "language": "python",
   "name": "python3"
  },
  "language_info": {
   "codemirror_mode": {
    "name": "ipython",
    "version": 3
   },
   "file_extension": ".py",
   "mimetype": "text/x-python",
   "name": "python",
   "nbconvert_exporter": "python",
   "pygments_lexer": "ipython3",
   "version": "3.10.12"
  }
 },
 "nbformat": 4,
 "nbformat_minor": 5
}
