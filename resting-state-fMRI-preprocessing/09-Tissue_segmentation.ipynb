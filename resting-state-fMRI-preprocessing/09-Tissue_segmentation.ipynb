{
 "cells": [
  {
   "cell_type": "markdown",
   "metadata": {},
   "source": [
    "# Tissue segmentation\n",
    "Tissue segmentation is a critical step in neuroimaging to differentiate brain tissue types, such as gray matter (GM), white matter (WM), and cerebrospinal fluid (CSF), for accurate analysis in studies like functional MRI (fMRI) or structural imaging.  We used the FMRIB’s Automated Segmentation Tool (FAST), part of the FSL (FMRIB Software Library), to perform this segmentation. \n",
    "The resulting tissue maps will be used in the next step for artifact removal.\n",
    "\n",
    "-----------------------------------------------------------\n",
    "Script written by Sepideh Tabrik & Mehdi Behroozi\n",
    "<br>\n",
    "Biopsychology, \n",
    "<br>\n",
    "Ruhr-University Bochum, Bochum, Germany\n",
    "<br>\n",
    "(2022.03)\n",
    "\n",
    "-----------------------------------------------------------"
   ]
  },
  {
   "cell_type": "code",
   "execution_count": null,
   "metadata": {
    "scrolled": true
   },
   "outputs": [],
   "source": [
    "import glob\n",
    "import os\n",
    "from pathlib import Path\n",
    "\n",
    "# Define data path\n",
    "data_path = Path(\"/mnt/d/Data/Human/ObjectCategorization/analysis2\")\n",
    "\n",
    "# Find subject directories\n",
    "sub_dirs = list(data_path.glob(\"sub*/ses-*\"))\n",
    "\n",
    "# Process each subject directory\n",
    "for curr_sub in sub_dirs:\n",
    "    print(f\"Processing: {curr_sub.parts[-2]}/{curr_sub.parts[-1]}\")\n",
    "\n",
    "    reg_dir = curr_sub / \"reg\"\n",
    "    output = curr_sub / \"tissue_segmentation\"\n",
    "\n",
    "    # Ensure the output directory exists\n",
    "    output.mkdir(parents=True, exist_ok=True)\n",
    "\n",
    "    # Run segmentation only if reg_dir exists\n",
    "    if reg_dir.exists():\n",
    "        os.system(f\"fast -t 1 -n 3 -H 0.1 -I 4 -l 20.0 -o {output}/highres {reg_dir}/highres\")\n",
    "    else:\n",
    "        print(f\"Warning: Registration directory {reg_dir} not found, skipping.\")\n"
   ]
  },
  {
   "cell_type": "markdown",
   "metadata": {},
   "source": [
    "## apply threshould to CSF and WM masks and binarize them\n"
   ]
  },
  {
   "cell_type": "code",
   "execution_count": null,
   "metadata": {
    "scrolled": true
   },
   "outputs": [],
   "source": [
    "\n",
    "import glob\n",
    "import os\n",
    "from pathlib import Path\n",
    "\n",
    "# Define data path\n",
    "data_path = Path(\"/mnt/d/Data/Human/ObjectCategorization/analysis2\")\n",
    "\n",
    "# Find tissue segmentation directories\n",
    "sub_dirs = list(data_path.glob(\"sub*/ses*/tissue_segmentation\"))\n",
    "\n",
    "# Process each directory\n",
    "for curr_sub in sub_dirs:\n",
    "    print(f\"Processing: {curr_sub}\")\n",
    "\n",
    "    # Change directory only if it exists\n",
    "    if curr_sub.exists():\n",
    "        os.chdir(curr_sub)\n",
    "    else:\n",
    "        print(f\"\\tWarning: {curr_sub} does not exist, skipping.\")\n",
    "        continue\n",
    "\n",
    "    # Define input files\n",
    "    csf_file = curr_sub / \"highres_pve_0.nii.gz\"\n",
    "    wm_file = curr_sub / \"highres_pve_2.nii.gz\"\n",
    "\n",
    "    # Apply threshold and binarize only if the files exist\n",
    "    if csf_file.exists():\n",
    "        print(\"\\tApplying threshold and binarizing CSF mask...\")\n",
    "        os.system(f\"fslmaths {csf_file} -thr 0.99 -div {csf_file} {curr_sub}/CSF.nii.gz\")\n",
    "    else:\n",
    "        print(f\"\\tWarning: {csf_file} not found, skipping CSF processing.\")\n",
    "\n",
    "    if wm_file.exists():\n",
    "        print(\"\\tApplying threshold and binarizing WM mask...\")\n",
    "        os.system(f\"fslmaths {wm_file} -thr 0.99 -div {wm_file} {curr_sub}/WM.nii.gz\")\n",
    "    else:\n",
    "        print(f\"\\tWarning: {wm_file} not found, skipping WM processing.\")\n"
   ]
  },
  {
   "cell_type": "markdown",
   "metadata": {},
   "source": [
    "## convert csf and wm mask from anatomical space to functional space\n"
   ]
  },
  {
   "cell_type": "code",
   "execution_count": null,
   "metadata": {
    "scrolled": true
   },
   "outputs": [],
   "source": [
    "from pathlib import Path\n",
    "import os\n",
    "\n",
    "data_path = Path('/mnt/d/Data/Human/ObjectCategorization/analysis2')\n",
    "sub_dirs = list(data_path.glob('sub*/ses*/func/rest*/'))\n",
    "\n",
    "\n",
    "\n",
    "for curr_sub in sub_dirs:\n",
    "    print(curr_sub)\n",
    "\n",
    "    # Define paths using pathlib\n",
    "    reg_trans = curr_sub / 'reg/highres2example_func.mat'\n",
    "    example_func = curr_sub / 'reg/example_func_brain.nii.gz'\n",
    "    tissue_seg = curr_sub.parents[1] / 'tissue_segmentation'  # More robust path extraction\n",
    "    \n",
    "    # Apply transformations using FLIRT\n",
    "    os.system(f'flirt -in {tissue_seg}/CSF -ref {example_func} -applyxfm -interp nearestneighbour -init {reg_trans} -out {curr_sub}/CSF')\n",
    "    os.system(f'flirt -in {tissue_seg}/WM -ref {example_func} -applyxfm -interp nearestneighbour -init {reg_trans} -out {curr_sub}/WM')\n"
   ]
  },
  {
   "cell_type": "code",
   "execution_count": null,
   "metadata": {},
   "outputs": [],
   "source": []
  }
 ],
 "metadata": {
  "kernelspec": {
   "display_name": "Python 3 (ipykernel)",
   "language": "python",
   "name": "python3"
  },
  "language_info": {
   "codemirror_mode": {
    "name": "ipython",
    "version": 3
   },
   "file_extension": ".py",
   "mimetype": "text/x-python",
   "name": "python",
   "nbconvert_exporter": "python",
   "pygments_lexer": "ipython3",
   "version": "3.10.12"
  }
 },
 "nbformat": 4,
 "nbformat_minor": 4
}
