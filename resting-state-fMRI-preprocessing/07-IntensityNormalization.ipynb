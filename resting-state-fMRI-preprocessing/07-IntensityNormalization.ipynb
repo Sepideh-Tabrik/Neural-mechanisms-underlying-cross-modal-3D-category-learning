{
 "cells": [
  {
   "cell_type": "markdown",
   "id": "1f98df2a",
   "metadata": {},
   "source": [
    "# Intensity Normalization\n",
    "This script normalizes runs global intensity normalization with grand mean = 10000 across for group analysis.\n",
    "\n",
    "-----------------------------------------------------------\n",
    "Script written by Sepideh Tabrik & Mehdi Behroozi\n",
    "<br>\n",
    "Biopsychology, \n",
    "<br>\n",
    "Ruhr-University Bochum, Bochum, Germany\n",
    "<br>\n",
    "(2022.03)\n",
    "\n",
    "-----------------------------------------------------------"
   ]
  },
  {
   "cell_type": "code",
   "execution_count": null,
   "id": "777dd6e9",
   "metadata": {
    "scrolled": true
   },
   "outputs": [],
   "source": [
    "import glob\n",
    "import os\n",
    "import subprocess\n",
    "from pathlib import Path\n",
    "\n",
    "# Define data path\n",
    "data_path = Path(\"/mnt/d/Data/Human/ObjectCategorization/analysis2\")\n",
    "\n",
    "# Find smoothed BOLD files\n",
    "bold_dirs = list(data_path.glob(\"sub*/ses-0*/func/rest*/*smoothed.nii.gz\"))\n",
    "\n",
    "# Process each BOLD file\n",
    "for curr_bold in bold_dirs:\n",
    "    sub_dir = curr_bold.parent  # Use pathlib to get the parent directory\n",
    "    \n",
    "    print(f\"Current file is: {curr_bold}\")\n",
    "\n",
    "    # Change directory only if it exists\n",
    "    if sub_dir.exists():\n",
    "        print(f\"\\t1) Changing the working directory to {sub_dir}\")\n",
    "        os.chdir(sub_dir)\n",
    "    else:\n",
    "        print(f\"\\tWarning: {sub_dir} does not exist, skipping.\")\n",
    "        continue\n",
    "\n",
    "    # Calculate median intensity\n",
    "    print(\"\\t2) Calculating median intensity...\")\n",
    "    try:\n",
    "        median_intensity = float(subprocess.check_output(f\"fslstats {curr_bold.name} -k mean_func_brain_mask.nii.gz -p 50\", shell=True).decode().strip())\n",
    "        print(f\"\\t\\tMedian intensity is {median_intensity}\")\n",
    "    except subprocess.CalledProcessError:\n",
    "        print(f\"\\tWarning: Failed to calculate median intensity for {curr_bold}, skipping.\")\n",
    "        continue\n",
    "\n",
    "    # Intensity Normalization with grand mean = 10000\n",
    "    print(\"\\t3) Performing intensity normalization...\")\n",
    "    normmean = 10000\n",
    "\n",
    "    if median_intensity > 0:  # Avoid division by zero\n",
    "        scaling = normmean / median_intensity\n",
    "        output_file = sub_dir / f\"{curr_bold.stem.split('.')[0]}_intnorm.nii.gz\"\n",
    "        os.system(f\"fslmaths {curr_bold.name} -mul {scaling} {output_file}\")\n",
    "        print(f\"\\t\\tSaved normalized file: {output_file}\")\n",
    "    else:\n",
    "        print(f\"\\tWarning: Median intensity is zero, skipping normalization.\")\n",
    "\n",
    "    print()\n"
   ]
  },
  {
   "cell_type": "code",
   "execution_count": null,
   "id": "089c7690",
   "metadata": {},
   "outputs": [],
   "source": []
  }
 ],
 "metadata": {
  "kernelspec": {
   "display_name": "Python 3 (ipykernel)",
   "language": "python",
   "name": "python3"
  },
  "language_info": {
   "codemirror_mode": {
    "name": "ipython",
    "version": 3
   },
   "file_extension": ".py",
   "mimetype": "text/x-python",
   "name": "python",
   "nbconvert_exporter": "python",
   "pygments_lexer": "ipython3",
   "version": "3.10.12"
  }
 },
 "nbformat": 4,
 "nbformat_minor": 5
}
