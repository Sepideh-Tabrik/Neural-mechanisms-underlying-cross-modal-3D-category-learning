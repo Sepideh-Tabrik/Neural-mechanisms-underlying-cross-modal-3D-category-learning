{
 "cells": [
  {
   "cell_type": "markdown",
   "id": "bce1794f",
   "metadata": {},
   "source": [
    "# transforming funtional data to atlas space\n",
    "This script transforms functional MRI data into atlas space to facilitate group-level independent component analysis (ICA).\n",
    "\n",
    "-----------------------------------------------------------\n",
    "Script written by Sepideh Tabrik & Mehdi Behroozi\n",
    "<br>\n",
    "Biopsychology, \n",
    "<br>\n",
    "Ruhr-University Bochum, Bochum, Germany\n",
    "<br>\n",
    "(2022.03)\n",
    "\n",
    "-----------------------------------------------------------"
   ]
  },
  {
   "cell_type": "code",
   "execution_count": null,
   "id": "9ebb8d91-ceb3-45a6-a4a4-ac9655e34583",
   "metadata": {},
   "outputs": [],
   "source": [
    "import glob\n",
    "import os\n",
    "\n",
    "data_path = '/mnt/d/Data/Human/ObjectCategorization/analysis2'\n",
    "sub_dirs = glob.glob('%s/sub-*/ses-0*/func/rest*'%(data_path))\n",
    "\n",
    "for curr_sub in sub_dirs:\n",
    "    \n",
    "    curr_reg = os.path.join(curr_sub,'reg')\n",
    "    print(curr_sub)\n",
    "\n",
    "    os.system('applywarp --ref=%s/standard --in=%s/preprocessed_func_data --out=%s/preprocessed_data2standard --warp=%s/example_func2standard_warp'%(curr_reg,curr_sub,curr_sub,curr_reg))\n",
    " "
   ]
  },
  {
   "cell_type": "code",
   "execution_count": null,
   "id": "48fe2bac-1883-4d0c-baa0-f5c2b09f40ab",
   "metadata": {},
   "outputs": [],
   "source": []
  }
 ],
 "metadata": {
  "kernelspec": {
   "display_name": "Python 3 (ipykernel)",
   "language": "python",
   "name": "python3"
  },
  "language_info": {
   "codemirror_mode": {
    "name": "ipython",
    "version": 3
   },
   "file_extension": ".py",
   "mimetype": "text/x-python",
   "name": "python",
   "nbconvert_exporter": "python",
   "pygments_lexer": "ipython3",
   "version": "3.10.12"
  }
 },
 "nbformat": 4,
 "nbformat_minor": 5
}
